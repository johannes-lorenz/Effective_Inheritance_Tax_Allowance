{
 "cells": [
  {
   "cell_type": "markdown",
   "id": "a7c11689-8d6b-4476-9e35-105ed960438b",
   "metadata": {},
   "source": [
    "# Der effektive Wert des erbschaftsteuerlichen Freibetrags – Entwicklung einer Referenzgröße als Basis für normative Diskussionen"
   ]
  },
  {
   "cell_type": "markdown",
   "id": "2af8cc4c-c473-4428-be0e-f9d78a331c59",
   "metadata": {},
   "source": [
    "Python-Code zu der Veröffentlichung von Diller/Kittl/Lorenz in Steuer und Wirtschaft (StuW), 2021"
   ]
  },
  {
   "cell_type": "markdown",
   "id": "0f86b949-8b78-4fb4-bd9a-b2140e861348",
   "metadata": {},
   "source": [
    "Hinweis: Zuerst R Code ausführen (Extrapolation in hohe Alter)"
   ]
  },
  {
   "cell_type": "markdown",
   "id": "86da9f0d-7358-465e-bc9a-de96aaa82458",
   "metadata": {},
   "source": [
    "<h2>Notwendige Pakete importieren</h2>"
   ]
  },
  {
   "cell_type": "code",
   "execution_count": 1,
   "id": "2282f3ae-064e-4868-9e09-ca587e2483b0",
   "metadata": {},
   "outputs": [],
   "source": [
    "import os\n",
    "import pandas as pd\n",
    "import numpy as np\n",
    "import matplotlib.pyplot as plt\n",
    "import matplotlib as mpl"
   ]
  },
  {
   "cell_type": "markdown",
   "id": "d85b8960-4d3d-4f2c-8de3-8a257fbc09c5",
   "metadata": {},
   "source": [
    "Ggf. Working Directory festlegen"
   ]
  },
  {
   "cell_type": "code",
   "execution_count": 2,
   "id": "4e60e8be-2968-49c3-a7c8-b156bc87d7a5",
   "metadata": {},
   "outputs": [],
   "source": [
    "os.chdir('/Users/johannes/GitHub/Effective_Inheritance_Tax_Allowance')"
   ]
  },
  {
   "cell_type": "code",
   "execution_count": 3,
   "id": "2f34d521-0d31-4364-9c2a-99fd1e4d6410",
   "metadata": {},
   "outputs": [
    {
     "data": {
      "text/plain": [
       "['Frauen_West.csv',\n",
       " 'Frauen_Ost.csv',\n",
       " 'Männer_West.csv',\n",
       " 'Männer_Ost.csv',\n",
       " 'Männer.csv',\n",
       " 'Frauen.csv']"
      ]
     },
     "execution_count": 3,
     "metadata": {},
     "output_type": "execute_result"
    }
   ],
   "source": [
    "os.listdir('2_temp_files')"
   ]
  },
  {
   "cell_type": "markdown",
   "id": "6c24fa30-5529-4aa0-953b-4cb4b7f7fd39",
   "metadata": {
    "tags": []
   },
   "source": [
    "<h2>Daten einlesen</h2>"
   ]
  },
  {
   "cell_type": "code",
   "execution_count": 4,
   "id": "1d22ffa4-57f9-48bd-9069-68e0a69a2e11",
   "metadata": {},
   "outputs": [],
   "source": [
    "#read original data\n",
    "death_prob_male_df = pd.read_excel(os.path.join('0_data', 'periodensterbetafeln-bundeslaender-5126204207005.xlsx'), sheet_name='Deutschland männlich', skiprows=14, nrows=98, usecols='A,D')\n",
    "death_prob_male_df.columns = ['Alter', 'Sterbewahrscheinlichkeit_male']\n",
    "death_prob_female_df = pd.read_excel(os.path.join('0_data', 'periodensterbetafeln-bundeslaender-5126204207005.xlsx'), sheet_name='Deutschland weiblich', skiprows=14, nrows=97, usecols='A,D')\n",
    "death_prob_female_df.columns = ['Alter', 'Sterbewahrscheinlichkeit_female']\n",
    "\n",
    "#read estimated data for high ages\n",
    "extended_male_df = pd.read_csv(os.path.join('2_temp_files', 'Männer.csv'), sep=',')\n",
    "extended_male_df = extended_male_df.rename({'Unnamed: 0': 'Alter', 'x': 'Sterbewahrscheinlichkeit_male'}, axis=1)\n",
    "extended_female_df = pd.read_csv(os.path.join('2_temp_files', 'Frauen.csv'), sep=',')\n",
    "extended_female_df = extended_female_df.rename({'Unnamed: 0': 'Alter', 'x': 'Sterbewahrscheinlichkeit_female'}, axis=1)\n",
    "\n",
    "#append higher ages\n",
    "appended_male_df = death_prob_male_df.append(extended_male_df)\n",
    "appended_female_df = death_prob_female_df.append(extended_female_df)\n",
    "\n",
    "appended_male_df['Ueberlebenswahrscheinlichkeit_male'] = 1 - appended_male_df.Sterbewahrscheinlichkeit_male\n",
    "appended_female_df['Ueberlebenswahrscheinlichkeit_female'] = 1 - appended_female_df.Sterbewahrscheinlichkeit_female\n",
    "\n",
    "#everything in one dataframe\n",
    "death_prob_df = pd.merge(appended_male_df, appended_female_df, how='left')"
   ]
  },
  {
   "cell_type": "code",
   "execution_count": 5,
   "id": "cbb4a8ab-c07c-4ec1-9d58-cb910ed286b9",
   "metadata": {},
   "outputs": [
    {
     "data": {
      "text/html": [
       "<div>\n",
       "<style scoped>\n",
       "    .dataframe tbody tr th:only-of-type {\n",
       "        vertical-align: middle;\n",
       "    }\n",
       "\n",
       "    .dataframe tbody tr th {\n",
       "        vertical-align: top;\n",
       "    }\n",
       "\n",
       "    .dataframe thead th {\n",
       "        text-align: right;\n",
       "    }\n",
       "</style>\n",
       "<table border=\"1\" class=\"dataframe\">\n",
       "  <thead>\n",
       "    <tr style=\"text-align: right;\">\n",
       "      <th></th>\n",
       "      <th>Alter</th>\n",
       "      <th>Sterbewahrscheinlichkeit_female</th>\n",
       "      <th>Ueberlebenswahrscheinlichkeit_female</th>\n",
       "    </tr>\n",
       "  </thead>\n",
       "  <tbody>\n",
       "    <tr>\n",
       "      <th>0</th>\n",
       "      <td>0</td>\n",
       "      <td>0.002892</td>\n",
       "      <td>0.997108</td>\n",
       "    </tr>\n",
       "    <tr>\n",
       "      <th>1</th>\n",
       "      <td>1</td>\n",
       "      <td>0.000222</td>\n",
       "      <td>0.999778</td>\n",
       "    </tr>\n",
       "    <tr>\n",
       "      <th>2</th>\n",
       "      <td>2</td>\n",
       "      <td>0.000131</td>\n",
       "      <td>0.999869</td>\n",
       "    </tr>\n",
       "    <tr>\n",
       "      <th>3</th>\n",
       "      <td>3</td>\n",
       "      <td>0.000100</td>\n",
       "      <td>0.999900</td>\n",
       "    </tr>\n",
       "    <tr>\n",
       "      <th>4</th>\n",
       "      <td>4</td>\n",
       "      <td>0.000092</td>\n",
       "      <td>0.999908</td>\n",
       "    </tr>\n",
       "    <tr>\n",
       "      <th>...</th>\n",
       "      <td>...</td>\n",
       "      <td>...</td>\n",
       "      <td>...</td>\n",
       "    </tr>\n",
       "    <tr>\n",
       "      <th>11</th>\n",
       "      <td>108</td>\n",
       "      <td>0.805129</td>\n",
       "      <td>0.194871</td>\n",
       "    </tr>\n",
       "    <tr>\n",
       "      <th>12</th>\n",
       "      <td>109</td>\n",
       "      <td>0.832060</td>\n",
       "      <td>0.167940</td>\n",
       "    </tr>\n",
       "    <tr>\n",
       "      <th>13</th>\n",
       "      <td>110</td>\n",
       "      <td>0.856096</td>\n",
       "      <td>0.143904</td>\n",
       "    </tr>\n",
       "    <tr>\n",
       "      <th>14</th>\n",
       "      <td>111</td>\n",
       "      <td>0.877367</td>\n",
       "      <td>0.122633</td>\n",
       "    </tr>\n",
       "    <tr>\n",
       "      <th>15</th>\n",
       "      <td>112</td>\n",
       "      <td>0.896051</td>\n",
       "      <td>0.103949</td>\n",
       "    </tr>\n",
       "  </tbody>\n",
       "</table>\n",
       "<p>113 rows × 3 columns</p>\n",
       "</div>"
      ],
      "text/plain": [
       "    Alter  Sterbewahrscheinlichkeit_female  \\\n",
       "0       0                         0.002892   \n",
       "1       1                         0.000222   \n",
       "2       2                         0.000131   \n",
       "3       3                         0.000100   \n",
       "4       4                         0.000092   \n",
       "..    ...                              ...   \n",
       "11    108                         0.805129   \n",
       "12    109                         0.832060   \n",
       "13    110                         0.856096   \n",
       "14    111                         0.877367   \n",
       "15    112                         0.896051   \n",
       "\n",
       "    Ueberlebenswahrscheinlichkeit_female  \n",
       "0                               0.997108  \n",
       "1                               0.999778  \n",
       "2                               0.999869  \n",
       "3                               0.999900  \n",
       "4                               0.999908  \n",
       "..                                   ...  \n",
       "11                              0.194871  \n",
       "12                              0.167940  \n",
       "13                              0.143904  \n",
       "14                              0.122633  \n",
       "15                              0.103949  \n",
       "\n",
       "[113 rows x 3 columns]"
      ]
     },
     "execution_count": 5,
     "metadata": {},
     "output_type": "execute_result"
    }
   ],
   "source": [
    "appended_female_df"
   ]
  },
  {
   "cell_type": "code",
   "execution_count": null,
   "id": "c55450d2-8d42-44fe-a41f-26b2262d1077",
   "metadata": {},
   "outputs": [],
   "source": []
  },
  {
   "cell_type": "markdown",
   "id": "6d570953-3258-4bcf-950f-b552a64dd03c",
   "metadata": {},
   "source": [
    "<h2>Wahrscheinlichkeit für eine Person des Alters A, innerhalb der nächsten t Jahre zu versterben</h2>"
   ]
  },
  {
   "cell_type": "markdown",
   "id": "25806ae0-2aa0-446a-97f2-25d293dac890",
   "metadata": {},
   "source": [
    "Für das Modell wird die Sterbewahrscheinlichkeit im „letzten“ Jahr auf 1 gesetzt, sodass insgesamt eine Wahrscheinlichkeitsverteilung resultiert (mit Fläche unter der Dichtefunktion = 1)."
   ]
  },
  {
   "cell_type": "markdown",
   "id": "a5490c36-1d22-43b2-bfdf-702a4d799b8c",
   "metadata": {},
   "source": [
    "### Männer"
   ]
  },
  {
   "cell_type": "code",
   "execution_count": 6,
   "id": "a07379bd-ad0b-401f-ae08-819b2994dc20",
   "metadata": {},
   "outputs": [],
   "source": [
    "def death_prob_male(Alter, period):\n",
    "    if Alter < 0:\n",
    "        return 'Alter darf nicht negativ sein'\n",
    "    elif Alter > 112:\n",
    "        return 'Alter darf nicht über 112 sein'\n",
    "    elif Alter + period > 112:\n",
    "        return 'Person kann nicht so alt werden'\n",
    "    elif ((Alter != 112) & (period == 0)):\n",
    "        return death_prob_df.Sterbewahrscheinlichkeit_male[Alter]\n",
    "    else:\n",
    "        if (Alter + period == 112):# Gebe \"Restwahrscheinlichkeit\" aus sodass die Wahrscheinlichkeitsmasse insgesamt 1 ist\n",
    "            tmp_var = 0\n",
    "            for t in range(0, 112 - Alter):\n",
    "                live_inner = np.prod(death_prob_df.Ueberlebenswahrscheinlichkeit_male[Alter:Alter + t])\n",
    "                death_inner = death_prob_df.Sterbewahrscheinlichkeit_male[Alter + t]\n",
    "                tmp_var = tmp_var + live_inner * death_inner\n",
    "            return 1 - tmp_var\n",
    "        else:# Gebe tatsächliche Wahrscheinlichkeit aus\n",
    "            live = np.prod(death_prob_df.Ueberlebenswahrscheinlichkeit_male[Alter:Alter + period])\n",
    "            death = death_prob_df.Sterbewahrscheinlichkeit_male[Alter + period]\n",
    "            return live * death"
   ]
  },
  {
   "cell_type": "markdown",
   "id": "f2bd023a-d046-494b-9223-9c9d687477e0",
   "metadata": {},
   "source": [
    "### Frauen"
   ]
  },
  {
   "cell_type": "code",
   "execution_count": 7,
   "id": "a90c5eaf-489b-4bb2-a42c-03cd8392564e",
   "metadata": {},
   "outputs": [],
   "source": [
    "def death_prob_female(Alter, period):\n",
    "    if Alter < 0:\n",
    "        return 'Alter darf nicht negativ sein'\n",
    "    elif Alter > 112:\n",
    "        return 'Alter darf nicht über 112 sein'\n",
    "    elif Alter + period > 112:\n",
    "        return 'Person kann nicht so alt werden'\n",
    "    elif ((Alter != 112) & (period == 0)):\n",
    "        return death_prob_df.Sterbewahrscheinlichkeit_female[Alter]\n",
    "    else:\n",
    "        if (Alter + period == 112):# Gebe \"Restwahrscheinlichkeit\" aus sodass die Wahrscheinlichkeitsmasse insgesamt 1 ist\n",
    "            tmp_var = 0\n",
    "            for t in range(0, 112 - Alter):\n",
    "                live_inner = np.prod(death_prob_df.Ueberlebenswahrscheinlichkeit_female[Alter:Alter + t])\n",
    "                death_inner = death_prob_df.Sterbewahrscheinlichkeit_female[Alter + t]\n",
    "                tmp_var = tmp_var + live_inner * death_inner\n",
    "            return 1 - tmp_var\n",
    "        else:# Gebe tatsächliche Wahrscheinlichkeit aus\n",
    "            live = np.prod(death_prob_df.Ueberlebenswahrscheinlichkeit_female[Alter:Alter + period])\n",
    "            death = death_prob_df.Sterbewahrscheinlichkeit_female[Alter + period]\n",
    "            return live * death"
   ]
  },
  {
   "cell_type": "code",
   "execution_count": 8,
   "id": "35a0419a-9e81-47d0-8489-7e2497fcceea",
   "metadata": {},
   "outputs": [
    {
     "data": {
      "text/plain": [
       "1"
      ]
     },
     "execution_count": 8,
     "metadata": {},
     "output_type": "execute_result"
    }
   ],
   "source": [
    "death_prob_female(112,0)"
   ]
  },
  {
   "cell_type": "markdown",
   "id": "baa88fdc-3781-414c-8ea1-bd3be14a045b",
   "metadata": {},
   "source": [
    "## Barwert des Erbst. Freibetrags"
   ]
  },
  {
   "cell_type": "markdown",
   "id": "93866c11-f3ab-424c-a66f-743509317ef1",
   "metadata": {},
   "source": [
    "### Ohne Vermögenswachstum / Abzinsen"
   ]
  },
  {
   "cell_type": "markdown",
   "id": "2d8fb0b2-d013-4a5e-be7e-3ecb6fd28c48",
   "metadata": {},
   "source": [
    "Männer"
   ]
  },
  {
   "cell_type": "code",
   "execution_count": 9,
   "id": "db6a5f46-ad7b-4d6d-ae09-2507444fe384",
   "metadata": {},
   "outputs": [],
   "source": [
    "def present_value_male_prelim(Alter, BlockingPeriod):\n",
    "    pv = 0\n",
    "    for iterator in range(0,112 - Alter + 1):\n",
    "        pv = pv + ( np.floor( iterator / BlockingPeriod) + 1 ) * 1 * death_prob_male(Alter, iterator)\n",
    "    return pv "
   ]
  },
  {
   "cell_type": "markdown",
   "id": "4c4c3c1c-10ef-44e2-8ea6-ec3e38523860",
   "metadata": {},
   "source": [
    "Frauen"
   ]
  },
  {
   "cell_type": "code",
   "execution_count": 10,
   "id": "f72851a8-f6bb-4cd9-90bb-93c521ae0ccb",
   "metadata": {},
   "outputs": [],
   "source": [
    "def present_value_female_prelim(Alter, BlockingPeriod):\n",
    "    pv = 0\n",
    "    for iterator in range(0,112 - Alter + 1):\n",
    "        pv = pv + ( np.floor( iterator / BlockingPeriod) + 1 ) * 1 * death_prob_female(Alter, iterator)\n",
    "    return pv "
   ]
  },
  {
   "cell_type": "code",
   "execution_count": 11,
   "id": "a85471ab-43d6-4cf5-a2a8-2b0383bb9533",
   "metadata": {},
   "outputs": [
    {
     "data": {
      "text/plain": [
       "1413946.4937115433"
      ]
     },
     "execution_count": 11,
     "metadata": {},
     "output_type": "execute_result"
    }
   ],
   "source": [
    "present_value_male_prelim(50,10) * 400000"
   ]
  },
  {
   "cell_type": "code",
   "execution_count": 12,
   "id": "f3183d8c-74a4-45fa-ad7e-5498f165abae",
   "metadata": {},
   "outputs": [
    {
     "data": {
      "text/plain": [
       "3.947388842917119"
      ]
     },
     "execution_count": 12,
     "metadata": {},
     "output_type": "execute_result"
    }
   ],
   "source": [
    "present_value_female_prelim(50,10)"
   ]
  },
  {
   "cell_type": "markdown",
   "id": "d58a299d-973d-4b0f-9e76-cd29246cf59b",
   "metadata": {},
   "source": [
    "### Mit Vermögenswachstum und Abzinsen"
   ]
  },
  {
   "cell_type": "markdown",
   "id": "3c060aa3-44db-4908-80a0-08184817cc70",
   "metadata": {},
   "source": [
    "Männer"
   ]
  },
  {
   "cell_type": "code",
   "execution_count": 13,
   "id": "e254e3d0-b063-4252-a097-8182b22a12aa",
   "metadata": {},
   "outputs": [],
   "source": [
    "def present_value_male(Alter, BlockingPeriod, Freibetrag, zins, rendite):\n",
    "    part_a = 0\n",
    "    part_b = 0\n",
    "    part_c = 0\n",
    "    \n",
    "    for z in range(0, int(np.floor((112 - Alter) / BlockingPeriod))):\n",
    "        for t in range(0, BlockingPeriod):\n",
    "            part_a = part_a + (Freibetrag * (1 + rendite) ** (BlockingPeriod * z + t) * death_prob_male(Alter, t + BlockingPeriod * z)) / ( (1 + zins) ** (t + BlockingPeriod * z) )\n",
    "    \n",
    "    for z in range(1, int(np.floor((112 - Alter) / BlockingPeriod))):\n",
    "        for l in range(z, int(np.floor((112 - Alter) / BlockingPeriod))):\n",
    "            for t in range(0, BlockingPeriod):\n",
    "                part_b = part_b + (Freibetrag * (1 + rendite) ** (BlockingPeriod * (l - z) + t) * death_prob_male(Alter, t + BlockingPeriod * l)) / ( (1 + zins) ** (t + BlockingPeriod * l) )\n",
    "    \n",
    "    for z in range(0, int(np.floor((112 - Alter) / BlockingPeriod)) + 1):\n",
    "        for t in range(0, np.mod(112 - Alter, BlockingPeriod)):\n",
    "            part_c = part_c + (Freibetrag * (1 + rendite) ** (BlockingPeriod * z + t) * death_prob_male(Alter, t + BlockingPeriod * int(np.floor((112 - Alter)/BlockingPeriod)))) / ( (1 + zins) ** (t + BlockingPeriod * int(np.floor((112 - Alter) / BlockingPeriod))) )\n",
    "\n",
    "    return part_a + part_b + part_c"
   ]
  },
  {
   "cell_type": "code",
   "execution_count": 14,
   "id": "48d51c9b-e8eb-4723-84d3-9d0373710a53",
   "metadata": {},
   "outputs": [
    {
     "data": {
      "text/plain": [
       "2104179.4047780256"
      ]
     },
     "execution_count": 14,
     "metadata": {},
     "output_type": "execute_result"
    }
   ],
   "source": [
    "present_value_male(50,16,400000,0,0.035)"
   ]
  },
  {
   "cell_type": "markdown",
   "id": "1005e30f-ac5a-4dfd-bf82-b365bf0cbd1e",
   "metadata": {},
   "source": [
    "Frauen"
   ]
  },
  {
   "cell_type": "code",
   "execution_count": 15,
   "id": "eb92adc4-8811-4f03-8940-6ed8f8c0cc62",
   "metadata": {},
   "outputs": [],
   "source": [
    "def present_value_female(Alter, BlockingPeriod, Freibetrag, zins, rendite):\n",
    "    part_a = 0\n",
    "    part_b = 0\n",
    "    part_c = 0\n",
    "    \n",
    "    for z in range(0, int(np.floor((112 - Alter) / BlockingPeriod))):\n",
    "        for t in range(0, BlockingPeriod):\n",
    "            part_a = part_a + (Freibetrag * (1 + rendite) ** (BlockingPeriod * z + t) * death_prob_female(Alter, t + BlockingPeriod * z)) / ( (1 + zins) ** (t + BlockingPeriod * z) )\n",
    "    \n",
    "    for z in range(1, int(np.floor((112 - Alter) / BlockingPeriod))):\n",
    "        for l in range(z, int(np.floor((112 - Alter) / BlockingPeriod))):\n",
    "            for t in range(0, BlockingPeriod):\n",
    "                part_b = part_b + (Freibetrag * (1 + rendite) ** (BlockingPeriod * (l - z) + t) * death_prob_female(Alter, t + BlockingPeriod * l)) / ( (1 + zins) ** (t + BlockingPeriod * l) )\n",
    "    \n",
    "    for z in range(0, int(np.floor((112 - Alter) / BlockingPeriod)) + 1):\n",
    "        for t in range(0, np.mod(112 - Alter, BlockingPeriod)):\n",
    "            part_c = part_c + (Freibetrag * (1 + rendite) ** (BlockingPeriod * z + t) * death_prob_female(Alter, t + BlockingPeriod * int(np.floor((112 - Alter)/BlockingPeriod)))) / ( (1 + zins) ** (t + BlockingPeriod * int(np.floor((112 - Alter) / BlockingPeriod))) )\n",
    "\n",
    "    return part_a + part_b + part_c"
   ]
  },
  {
   "cell_type": "code",
   "execution_count": 16,
   "id": "fa2d99f0-7b88-49ea-8262-048a63b8317e",
   "metadata": {},
   "outputs": [
    {
     "data": {
      "text/plain": [
       "10426691.466223901"
      ]
     },
     "execution_count": 16,
     "metadata": {},
     "output_type": "execute_result"
    }
   ],
   "source": [
    "present_value_female(50,10,400000,0,0.074)"
   ]
  },
  {
   "cell_type": "code",
   "execution_count": 17,
   "id": "09e6bb18-3d59-455f-a770-ed4e680ae01b",
   "metadata": {},
   "outputs": [
    {
     "data": {
      "text/plain": [
       "579344.1398603041"
      ]
     },
     "execution_count": 17,
     "metadata": {},
     "output_type": "execute_result"
    }
   ],
   "source": [
    "present_value_female(50,10,400000,0,0.035) - present_value_male(50,10,400000,0,0.035)"
   ]
  },
  {
   "cell_type": "markdown",
   "id": "ce677b41-9d58-412f-9007-8782e387b9d8",
   "metadata": {},
   "source": [
    "## Barwert des erbst. Freibetrags bei Abwarten"
   ]
  },
  {
   "cell_type": "markdown",
   "id": "be625414-548d-42b9-b81c-ed2043739d82",
   "metadata": {},
   "source": [
    "Männer"
   ]
  },
  {
   "cell_type": "code",
   "execution_count": 18,
   "id": "6113f11c-949b-4ad0-a0e2-da6f686787ab",
   "metadata": {},
   "outputs": [],
   "source": [
    "def present_value_delay_male(Alter, BlockingPeriod, Freibetrag, zins, rendite, m):\n",
    "    part_d = 0\n",
    "    part_a = 0\n",
    "    part_b = 0\n",
    "    part_c = 0\n",
    "    \n",
    "    for t in range(0, m):\n",
    "        part_d = part_d + Freibetrag * death_prob_male(Alter, t) / ((1 + zins) ** t)\n",
    "    \n",
    "    for z in range(0, int(np.floor((112 - Alter - m) / BlockingPeriod))):\n",
    "        for t in range(0, BlockingPeriod):\n",
    "            part_a = part_a + (Freibetrag * (1 + rendite) ** (BlockingPeriod * z + t) * death_prob_male(Alter, m + t + BlockingPeriod * z)) / ( (1 + zins) ** (m + t + BlockingPeriod * z) )\n",
    "    \n",
    "    for z in range(1, int(np.floor((112 - Alter - m) / BlockingPeriod))):\n",
    "        for l in range(z, int(np.floor((112 - Alter - m) / BlockingPeriod))):\n",
    "            for t in range(0, BlockingPeriod):\n",
    "                part_b = part_b + (Freibetrag * (1 + rendite) ** (BlockingPeriod * (l - z) + t) * death_prob_male(Alter, m + t + BlockingPeriod * l)) / ( (1 + zins) ** (m + t + BlockingPeriod * l) )\n",
    "    \n",
    "    for z in range(0, int(np.floor((112 - Alter - m) / BlockingPeriod)) + 1):\n",
    "        for t in range(0, np.mod(112 - Alter - m, BlockingPeriod)):\n",
    "            part_c = part_c + (Freibetrag * (1 + rendite) ** (BlockingPeriod * z + t) * death_prob_male(Alter, m + t + BlockingPeriod * int(np.floor((112 - Alter - m) / BlockingPeriod)))) / ( (1 + zins) ** (m + t + BlockingPeriod * int(np.floor((112 - Alter - m) / BlockingPeriod))) )\n",
    "\n",
    "    return part_a + part_b + part_c + part_d"
   ]
  },
  {
   "cell_type": "code",
   "execution_count": 19,
   "id": "9f3f4b27-af73-4cd7-9596-e526618f6b70",
   "metadata": {},
   "outputs": [
    {
     "data": {
      "text/plain": [
       "2311471.9275901685"
      ]
     },
     "execution_count": 19,
     "metadata": {},
     "output_type": "execute_result"
    }
   ],
   "source": [
    "present_value_delay_male(50,10,400000,0,0.035,5)"
   ]
  },
  {
   "cell_type": "markdown",
   "id": "4f2c05ee-9654-49f9-bc1e-b8c1555afdf2",
   "metadata": {},
   "source": [
    "Frauen"
   ]
  },
  {
   "cell_type": "code",
   "execution_count": 20,
   "id": "e049ec2d-bf86-47b1-b05c-a94db4d01b78",
   "metadata": {},
   "outputs": [],
   "source": [
    "def present_value_delay_female(Alter, BlockingPeriod, Freibetrag, zins, rendite, m):\n",
    "    part_d = 0\n",
    "    part_a = 0\n",
    "    part_b = 0\n",
    "    part_c = 0\n",
    "    \n",
    "    for t in range(0, m):\n",
    "        part_d = part_d + Freibetrag * death_prob_female(Alter, t) / ((1 + zins) ** t)\n",
    "    \n",
    "    for z in range(0, int(np.floor((112 - Alter - m) / BlockingPeriod))):\n",
    "        for t in range(0, BlockingPeriod):\n",
    "            part_a = part_a + (Freibetrag * (1 + rendite) ** (BlockingPeriod * z + t) * death_prob_female(Alter, m + t + BlockingPeriod * z)) / ( (1 + zins) ** (m + t + BlockingPeriod * z) )\n",
    "    \n",
    "    for z in range(1, int(np.floor((112 - Alter - m) / BlockingPeriod))):\n",
    "        for l in range(z, int(np.floor((112 - Alter - m) / BlockingPeriod))):\n",
    "            for t in range(0, BlockingPeriod):\n",
    "                part_b = part_b + (Freibetrag * (1 + rendite) ** (BlockingPeriod * (l - z) + t) * death_prob_female(Alter, m + t + BlockingPeriod * l)) / ( (1 + zins) ** (m + t + BlockingPeriod * l) )\n",
    "    \n",
    "    for z in range(0, int(np.floor((112 - Alter - m) / BlockingPeriod)) + 1):\n",
    "        for t in range(0, np.mod(112 - Alter - m, BlockingPeriod)):\n",
    "            part_c = part_c + (Freibetrag * (1 + rendite) ** (BlockingPeriod * z + t) * death_prob_female(Alter, m + t + BlockingPeriod * int(np.floor((112 - Alter - m) / BlockingPeriod)))) / ( (1 + zins) ** (m + t + BlockingPeriod * int(np.floor((112 - Alter - m) / BlockingPeriod))) )\n",
    "\n",
    "    return part_a + part_b + part_c + part_d"
   ]
  },
  {
   "cell_type": "code",
   "execution_count": 21,
   "id": "2c06a9d6-04b0-42a0-b92b-00f58ec5a716",
   "metadata": {},
   "outputs": [
    {
     "data": {
      "text/plain": [
       "2796790.8532550326"
      ]
     },
     "execution_count": 21,
     "metadata": {},
     "output_type": "execute_result"
    }
   ],
   "source": [
    "present_value_delay_female(50,10,400000,0,0.035,5)"
   ]
  },
  {
   "cell_type": "markdown",
   "id": "f285dc91-2252-4d86-b140-375a4158b902",
   "metadata": {},
   "source": [
    "## Tabellen für den Anhang"
   ]
  },
  {
   "cell_type": "code",
   "execution_count": 22,
   "id": "549923f1-f704-443d-8cd6-e179e7eab233",
   "metadata": {},
   "outputs": [],
   "source": [
    "return_list = [0.035, 0.052, 0.064, 0.074]"
   ]
  },
  {
   "cell_type": "markdown",
   "id": "abcd6bdc-a492-4cb3-9ccb-a122fff6219b",
   "metadata": {},
   "source": [
    "### Werte für Männer"
   ]
  },
  {
   "cell_type": "code",
   "execution_count": 23,
   "id": "b9a23ca6-25cf-487e-8463-356e0a7fa5e3",
   "metadata": {},
   "outputs": [],
   "source": [
    "def costs_dep_return_men(r):\n",
    "    costs_dict_men = {}\n",
    "    for Alter in range(40, 85, 5):\n",
    "        temp_list = []\n",
    "        for m in [5, 10]:\n",
    "            temp_list.append(present_value_delay_male(Alter, 10, 400000, 0, r, 0) - present_value_delay_male(Alter, 10, 400000, 0, r, m))\n",
    "        costs_dict_men[Alter] = temp_list\n",
    "    return costs_dict_men"
   ]
  },
  {
   "cell_type": "code",
   "execution_count": 24,
   "id": "020def8d-7189-4119-8d08-f5424029ccd8",
   "metadata": {},
   "outputs": [],
   "source": [
    "#Falls die Excel-Datei schon existiert, vorher löschen\n",
    "if 'costs_men_general.xlsx' in os.listdir('3_output'):\n",
    "    os.remove(os.path.join('3_output', 'costs_men_general.xlsx'))\n",
    "\n",
    "#Einzelne Excel-Arbeitsblätter für die Zinssätze erstellen\n",
    "sheet_name = 'men_{}'.format(return_list[0])\n",
    "with pd.ExcelWriter(os.path.join('3_output', 'costs_men_general.xlsx'), mode = 'w') as writer:\n",
    "    costs_df = pd.DataFrame(data = costs_dep_return_men(return_list[0])).transpose()\n",
    "    costs_df.columns=[5, 10]\n",
    "    costs_df.round(2)\n",
    "    costs_df.to_excel(writer, sheet_name = sheet_name)\n",
    "for r in return_list:\n",
    "    if r != return_list[0]:\n",
    "        sheet_name = 'men_{}'.format(r)\n",
    "        with pd.ExcelWriter(os.path.join('3_output', 'costs_men_general.xlsx'), mode = 'a') as writer:\n",
    "            costs_df = pd.DataFrame(data = costs_dep_return_men(r)).transpose()\n",
    "            costs_df.columns=[5, 10]\n",
    "            costs_df.round(2)\n",
    "            costs_df.to_excel(writer, sheet_name = sheet_name)"
   ]
  },
  {
   "cell_type": "markdown",
   "id": "b4d5ae41-d436-4237-a093-9bff220c2640",
   "metadata": {},
   "source": [
    "### Werte für Frauen"
   ]
  },
  {
   "cell_type": "code",
   "execution_count": 25,
   "id": "c583255f-29b8-45a4-8444-eedfcfb33729",
   "metadata": {},
   "outputs": [],
   "source": [
    "def costs_dep_return_women(r):\n",
    "    costs_dict_women = {}\n",
    "    for Alter in range(40, 85, 5):\n",
    "        temp_list = []\n",
    "        for m in [5, 10]:\n",
    "            temp_list.append(present_value_delay_female(Alter, 10, 400000, 0, r, 0) - present_value_delay_female(Alter, 10, 400000, 0, r, m))\n",
    "        costs_dict_women[Alter] = temp_list\n",
    "    return costs_dict_women"
   ]
  },
  {
   "cell_type": "code",
   "execution_count": 26,
   "id": "3482d83c-23a8-447c-8c58-06bf1fa2276f",
   "metadata": {},
   "outputs": [],
   "source": [
    "#Falls die Excel-Datei schon existiert, vorher löschen\n",
    "if 'costs_women_general.xlsx' in os.listdir('3_output'):\n",
    "    os.remove(os.path.join('3_output', 'costs_women_general.xlsx'))\n",
    "\n",
    "#Einzelne Excel-Arbeitsblätter für die Zinssätze erstellen\n",
    "sheet_name = 'women_{}'.format(return_list[0])\n",
    "with pd.ExcelWriter(os.path.join('3_output', 'costs_women_general.xlsx'), mode = 'w') as writer:\n",
    "    costs_df = pd.DataFrame(data = costs_dep_return_women(return_list[0])).transpose()\n",
    "    costs_df.columns=[5, 10]\n",
    "    costs_df.round(2)\n",
    "    costs_df.to_excel(writer, sheet_name = sheet_name)\n",
    "for r in return_list:\n",
    "    if r != return_list[0]:\n",
    "        sheet_name = 'women_{}'.format(r)\n",
    "        with pd.ExcelWriter(os.path.join('3_output', 'costs_women_general.xlsx'), mode = 'a') as writer:\n",
    "            costs_df = pd.DataFrame(data = costs_dep_return_women(r)).transpose()\n",
    "            costs_df.columns=[5, 10]\n",
    "            costs_df.round(2)\n",
    "            costs_df.to_excel(writer, sheet_name = sheet_name)"
   ]
  },
  {
   "cell_type": "code",
   "execution_count": 27,
   "id": "c66547dd-5e78-47bd-b67c-9a393d655664",
   "metadata": {},
   "outputs": [
    {
     "data": {
      "text/plain": [
       "4242212.8116491195"
      ]
     },
     "execution_count": 27,
     "metadata": {},
     "output_type": "execute_result"
    }
   ],
   "source": [
    "present_value_male(50, 10, 400000, 0, 0.05)"
   ]
  },
  {
   "cell_type": "markdown",
   "id": "763b47e0-d6a7-4494-82ae-4b1bf4d7e184",
   "metadata": {},
   "source": [
    "## Neue Tabellen für den Anhang (mit variabler Blocking Period)"
   ]
  },
  {
   "cell_type": "code",
   "execution_count": 28,
   "id": "13bde4d7-c61b-46e6-a4eb-7185336128fc",
   "metadata": {},
   "outputs": [],
   "source": [
    "return_list = [0.035, 0.052, 0.064, 0.074]"
   ]
  },
  {
   "cell_type": "code",
   "execution_count": 29,
   "id": "7fe945d5-b7cd-402e-a72e-a22fc45c0fb7",
   "metadata": {},
   "outputs": [],
   "source": [
    "def effective_allowance_men(r):\n",
    "    costs_dict_men = {}\n",
    "    for Alter in range(40, 85, 5):\n",
    "        temp_list = []\n",
    "        for m in [10, 20]:\n",
    "            temp_list.append(present_value_delay_male(Alter, m, 400000, 0, r, 0))\n",
    "        costs_dict_men[Alter] = temp_list\n",
    "    return costs_dict_men"
   ]
  },
  {
   "cell_type": "code",
   "execution_count": 30,
   "id": "f4fa5513-f6b0-447d-b44b-f7f9929dfdaa",
   "metadata": {},
   "outputs": [],
   "source": [
    "#Falls die Excel-Datei schon existiert, vorher löschen\n",
    "if 'effective_allowance_men.xlsx' in os.listdir('3_output'):\n",
    "    os.remove(os.path.join('3_output', 'effective_allowance_men.xlsx'))\n",
    "\n",
    "#Einzelne Excel-Arbeitsblätter für die Zinssätze erstellen\n",
    "sheet_name = 'men_{}'.format(return_list[0])\n",
    "with pd.ExcelWriter(os.path.join('3_output', 'effective_allowance_men.xlsx'), mode = 'w') as writer:\n",
    "    costs_df = pd.DataFrame(data = effective_allowance_men(return_list[0])).transpose()\n",
    "    costs_df.columns=[10, 20]\n",
    "    costs_df.round(2)\n",
    "    costs_df.to_excel(writer, sheet_name = sheet_name)\n",
    "for r in return_list:\n",
    "    if r != return_list[0]:\n",
    "        sheet_name = 'men_{}'.format(r)\n",
    "        with pd.ExcelWriter(os.path.join('3_output', 'effective_allowance_men.xlsx'), mode = 'a') as writer:\n",
    "            costs_df = pd.DataFrame(data = effective_allowance_men(r)).transpose()\n",
    "            costs_df.columns=[10, 20]\n",
    "            costs_df.round(2)\n",
    "            costs_df.to_excel(writer, sheet_name = sheet_name)"
   ]
  },
  {
   "cell_type": "code",
   "execution_count": 31,
   "id": "509510a5-2a83-4a42-95c5-6168f9115381",
   "metadata": {},
   "outputs": [],
   "source": [
    "def effective_allowance_women(r):\n",
    "    costs_dict_women = {}\n",
    "    for Alter in range(40, 85, 5):\n",
    "        temp_list = []\n",
    "        for m in [10, 20]:\n",
    "            temp_list.append(present_value_delay_female(Alter, m, 400000, 0, r, 0))\n",
    "        costs_dict_women[Alter] = temp_list\n",
    "    return costs_dict_women"
   ]
  },
  {
   "cell_type": "code",
   "execution_count": 32,
   "id": "ceb72ce8-1899-4e53-9a97-c0aa0459b513",
   "metadata": {},
   "outputs": [],
   "source": [
    "#Falls die Excel-Datei schon existiert, vorher löschen\n",
    "if 'effective_allowance_women.xlsx' in os.listdir('3_output'):\n",
    "    os.remove(os.path.join('3_output', 'effective_allowance_women.xlsx'))\n",
    "\n",
    "#Einzelne Excel-Arbeitsblätter für die Zinssätze erstellen\n",
    "sheet_name = 'women_{}'.format(return_list[0])\n",
    "with pd.ExcelWriter(os.path.join('3_output', 'effective_allowance_women.xlsx'), mode = 'w') as writer:\n",
    "    costs_df = pd.DataFrame(data = effective_allowance_women(return_list[0])).transpose()\n",
    "    costs_df.columns=[10, 20]\n",
    "    costs_df.round(2)\n",
    "    costs_df.to_excel(writer, sheet_name = sheet_name)\n",
    "for r in return_list:\n",
    "    if r != return_list[0]:\n",
    "        sheet_name = 'women_{}'.format(r)\n",
    "        with pd.ExcelWriter(os.path.join('3_output', 'effective_allowance_women.xlsx'), mode = 'a') as writer:\n",
    "            costs_df = pd.DataFrame(data = effective_allowance_women(r)).transpose()\n",
    "            costs_df.columns=[10, 20]\n",
    "            costs_df.round(2)\n",
    "            costs_df.to_excel(writer, sheet_name = sheet_name)"
   ]
  },
  {
   "cell_type": "markdown",
   "id": "ce327d72-2040-4a17-91be-e7f8fb0622ff",
   "metadata": {},
   "source": [
    "## Einfluss der Sperrfrist"
   ]
  },
  {
   "cell_type": "code",
   "execution_count": 33,
   "id": "f808a8f6-9e7c-41c5-ac92-6376c15975b0",
   "metadata": {},
   "outputs": [
    {
     "data": {
      "image/png": "[encoded data removed]",
      "text/plain": [
       "<Figure size 432x288 with 1 Axes>"
      ]
     },
     "metadata": {
      "needs_background": "light"
     },
     "output_type": "display_data"
    }
   ],
   "source": [
    "x = []\n",
    "for i in range(5, 50):\n",
    "    x.append(i + 1)\n",
    "y = []\n",
    "for i in x:\n",
    "    y.append(present_value_male(50, i, 400000, 0, 0))\n",
    "yzins = []\n",
    "for i in x:\n",
    "    yzins.append(present_value_male(50, i, 400000, 0.04, 0.04))\n",
    "plt.scatter(x, y)\n",
    "plt.scatter(x, yzins)\n",
    "plt.show()"
   ]
  },
  {
   "cell_type": "markdown",
   "id": "65cae3fc-d44c-4efa-905b-c2886469ef21",
   "metadata": {},
   "source": [
    "### Vorteil für Frauen in Abhängigkeit von der Sperrfrist"
   ]
  },
  {
   "cell_type": "code",
   "execution_count": 34,
   "id": "d828056b-430e-48b6-b9a2-85c8664133c7",
   "metadata": {},
   "outputs": [
    {
     "data": {
      "image/png": "[encoded data removed]",
      "text/plain": [
       "<Figure size 432x288 with 1 Axes>"
      ]
     },
     "metadata": {
      "needs_background": "light"
     },
     "output_type": "display_data"
    }
   ],
   "source": [
    "x = []\n",
    "for i in range(5, 60):\n",
    "    x.append(i + 1)\n",
    "y = []\n",
    "for i in x:\n",
    "    y.append(present_value_female(50, i, 400000, 0, 0) - present_value_male(50, i, 400000, 0, 0))\n",
    "plt.scatter(x, y)\n",
    "plt.show()"
   ]
  },
  {
   "cell_type": "markdown",
   "id": "e23aec2a-2889-4b9d-b511-69140f69f66a",
   "metadata": {},
   "source": [
    "# Vorteil für Bewohner der alten Bundesländer"
   ]
  },
  {
   "cell_type": "markdown",
   "id": "03fc1f55-d9eb-4bb4-a389-50d789c8f60a",
   "metadata": {},
   "source": [
    "## Daten einlesen"
   ]
  },
  {
   "cell_type": "code",
   "execution_count": 35,
   "id": "adb38156-595b-40c5-8883-73cb30a22bf0",
   "metadata": {},
   "outputs": [],
   "source": [
    "#read original data\n",
    "#west\n",
    "death_prob_west_male_df = pd.read_excel(os.path.join('0_data', 'periodensterbetafeln-bundeslaender-5126204207005.xlsx'), sheet_name='Westdeutschland männlich', skiprows=14, nrows=98, usecols='A,D')\n",
    "death_prob_west_male_df.columns = ['Alter', 'Sterbewahrscheinlichkeit_wessi_male']\n",
    "death_prob_west_female_df = pd.read_excel(os.path.join('0_data', 'periodensterbetafeln-bundeslaender-5126204207005.xlsx'), sheet_name='Westdeutschland weiblich', skiprows=14, nrows=97, usecols='A,D')\n",
    "death_prob_west_female_df.columns = ['Alter', 'Sterbewahrscheinlichkeit_wessi_female']\n",
    "#ost\n",
    "death_prob_ost_male_df = pd.read_excel(os.path.join('0_data', 'periodensterbetafeln-bundeslaender-5126204207005.xlsx'), sheet_name='Ostdeutschland männlich', skiprows=14, nrows=98, usecols='A,D')\n",
    "death_prob_ost_male_df.columns = ['Alter', 'Sterbewahrscheinlichkeit_ossi_male']\n",
    "death_prob_ost_female_df = pd.read_excel(os.path.join('0_data', 'periodensterbetafeln-bundeslaender-5126204207005.xlsx'), sheet_name='Ostdeutschland weiblich', skiprows=14, nrows=97, usecols='A,D')\n",
    "death_prob_ost_female_df.columns = ['Alter', 'Sterbewahrscheinlichkeit_ossi_female']\n",
    "\n",
    "#read estimated data for high ages\n",
    "#west\n",
    "extended_west_male_df = pd.read_csv(os.path.join('2_temp_files', 'Männer_West.csv'), sep=',')\n",
    "extended_west_male_df = extended_west_male_df.rename({'Unnamed: 0': 'Alter', 'x': 'Sterbewahrscheinlichkeit_wessi_male'}, axis=1)\n",
    "extended_west_female_df = pd.read_csv(os.path.join('2_temp_files', 'Frauen_West.csv'), sep=',')\n",
    "extended_west_female_df = extended_west_female_df.rename({'Unnamed: 0': 'Alter', 'x': 'Sterbewahrscheinlichkeit_wessi_female'}, axis=1)\n",
    "#ost\n",
    "extended_ost_male_df = pd.read_csv(os.path.join('2_temp_files', 'Männer_Ost.csv'), sep=',')\n",
    "extended_ost_male_df = extended_ost_male_df.rename({'Unnamed: 0': 'Alter', 'x': 'Sterbewahrscheinlichkeit_ossi_male'}, axis=1)\n",
    "extended_ost_female_df = pd.read_csv(os.path.join('2_temp_files', 'Frauen_Ost.csv'), sep=',')\n",
    "extended_ost_female_df = extended_ost_female_df.rename({'Unnamed: 0': 'Alter', 'x': 'Sterbewahrscheinlichkeit_ossi_female'}, axis=1)\n",
    "\n",
    "#append higher ages\n",
    "#west\n",
    "appended_west_male_df = death_prob_west_male_df.append(extended_west_male_df)\n",
    "appended_west_female_df = death_prob_west_female_df.append(extended_west_female_df)\n",
    "#ost\n",
    "appended_ost_male_df = death_prob_ost_male_df.append(extended_ost_male_df)\n",
    "appended_ost_female_df = death_prob_ost_female_df.append(extended_ost_female_df)\n",
    "\n",
    "#calculate survival probabilities\n",
    "#west\n",
    "appended_west_male_df['Ueberlebenswahrscheinlichkeit_wessi_male'] = 1 - appended_west_male_df.Sterbewahrscheinlichkeit_wessi_male\n",
    "appended_west_female_df['Ueberlebenswahrscheinlichkeit_wessi_female'] = 1 - appended_west_female_df.Sterbewahrscheinlichkeit_wessi_female\n",
    "#ost\n",
    "appended_ost_male_df['Ueberlebenswahrscheinlichkeit_ossi_male'] = 1 - appended_ost_male_df.Sterbewahrscheinlichkeit_ossi_male\n",
    "appended_ost_female_df['Ueberlebenswahrscheinlichkeit_ossi_female'] = 1 - appended_ost_female_df.Sterbewahrscheinlichkeit_ossi_female\n",
    "\n",
    "#everything in one dataframe\n",
    "temp1_df = pd.merge(appended_west_male_df, appended_west_female_df, how='left')\n",
    "temp2_df = pd.merge(appended_ost_male_df, appended_ost_female_df, how='left')\n",
    "death_prob_ow_df = pd.merge(temp1_df, temp2_df, how='left')"
   ]
  },
  {
   "cell_type": "code",
   "execution_count": 36,
   "id": "8663b308-2879-4df3-894d-dafd0b863977",
   "metadata": {},
   "outputs": [
    {
     "data": {
      "text/html": [
       "<div>\n",
       "<style scoped>\n",
       "    .dataframe tbody tr th:only-of-type {\n",
       "        vertical-align: middle;\n",
       "    }\n",
       "\n",
       "    .dataframe tbody tr th {\n",
       "        vertical-align: top;\n",
       "    }\n",
       "\n",
       "    .dataframe thead th {\n",
       "        text-align: right;\n",
       "    }\n",
       "</style>\n",
       "<table border=\"1\" class=\"dataframe\">\n",
       "  <thead>\n",
       "    <tr style=\"text-align: right;\">\n",
       "      <th></th>\n",
       "      <th>Alter</th>\n",
       "      <th>Sterbewahrscheinlichkeit_wessi_male</th>\n",
       "      <th>Ueberlebenswahrscheinlichkeit_wessi_male</th>\n",
       "      <th>Sterbewahrscheinlichkeit_wessi_female</th>\n",
       "      <th>Ueberlebenswahrscheinlichkeit_wessi_female</th>\n",
       "      <th>Sterbewahrscheinlichkeit_ossi_male</th>\n",
       "      <th>Ueberlebenswahrscheinlichkeit_ossi_male</th>\n",
       "      <th>Sterbewahrscheinlichkeit_ossi_female</th>\n",
       "      <th>Ueberlebenswahrscheinlichkeit_ossi_female</th>\n",
       "    </tr>\n",
       "  </thead>\n",
       "  <tbody>\n",
       "    <tr>\n",
       "      <th>0</th>\n",
       "      <td>0</td>\n",
       "      <td>0.003454</td>\n",
       "      <td>0.996546</td>\n",
       "      <td>0.002998</td>\n",
       "      <td>0.997002</td>\n",
       "      <td>0.002870</td>\n",
       "      <td>0.997130</td>\n",
       "      <td>0.002303</td>\n",
       "      <td>0.997697</td>\n",
       "    </tr>\n",
       "    <tr>\n",
       "      <th>1</th>\n",
       "      <td>1</td>\n",
       "      <td>0.000225</td>\n",
       "      <td>0.999775</td>\n",
       "      <td>0.000216</td>\n",
       "      <td>0.999784</td>\n",
       "      <td>0.000366</td>\n",
       "      <td>0.999634</td>\n",
       "      <td>0.000243</td>\n",
       "      <td>0.999757</td>\n",
       "    </tr>\n",
       "    <tr>\n",
       "      <th>2</th>\n",
       "      <td>2</td>\n",
       "      <td>0.000129</td>\n",
       "      <td>0.999871</td>\n",
       "      <td>0.000128</td>\n",
       "      <td>0.999872</td>\n",
       "      <td>0.000160</td>\n",
       "      <td>0.999840</td>\n",
       "      <td>0.000180</td>\n",
       "      <td>0.999820</td>\n",
       "    </tr>\n",
       "    <tr>\n",
       "      <th>3</th>\n",
       "      <td>3</td>\n",
       "      <td>0.000114</td>\n",
       "      <td>0.999886</td>\n",
       "      <td>0.000102</td>\n",
       "      <td>0.999898</td>\n",
       "      <td>0.000140</td>\n",
       "      <td>0.999860</td>\n",
       "      <td>0.000092</td>\n",
       "      <td>0.999908</td>\n",
       "    </tr>\n",
       "    <tr>\n",
       "      <th>4</th>\n",
       "      <td>4</td>\n",
       "      <td>0.000114</td>\n",
       "      <td>0.999886</td>\n",
       "      <td>0.000101</td>\n",
       "      <td>0.999899</td>\n",
       "      <td>0.000128</td>\n",
       "      <td>0.999872</td>\n",
       "      <td>0.000061</td>\n",
       "      <td>0.999939</td>\n",
       "    </tr>\n",
       "  </tbody>\n",
       "</table>\n",
       "</div>"
      ],
      "text/plain": [
       "   Alter  Sterbewahrscheinlichkeit_wessi_male  \\\n",
       "0      0                             0.003454   \n",
       "1      1                             0.000225   \n",
       "2      2                             0.000129   \n",
       "3      3                             0.000114   \n",
       "4      4                             0.000114   \n",
       "\n",
       "   Ueberlebenswahrscheinlichkeit_wessi_male  \\\n",
       "0                                  0.996546   \n",
       "1                                  0.999775   \n",
       "2                                  0.999871   \n",
       "3                                  0.999886   \n",
       "4                                  0.999886   \n",
       "\n",
       "   Sterbewahrscheinlichkeit_wessi_female  \\\n",
       "0                               0.002998   \n",
       "1                               0.000216   \n",
       "2                               0.000128   \n",
       "3                               0.000102   \n",
       "4                               0.000101   \n",
       "\n",
       "   Ueberlebenswahrscheinlichkeit_wessi_female  \\\n",
       "0                                    0.997002   \n",
       "1                                    0.999784   \n",
       "2                                    0.999872   \n",
       "3                                    0.999898   \n",
       "4                                    0.999899   \n",
       "\n",
       "   Sterbewahrscheinlichkeit_ossi_male  \\\n",
       "0                            0.002870   \n",
       "1                            0.000366   \n",
       "2                            0.000160   \n",
       "3                            0.000140   \n",
       "4                            0.000128   \n",
       "\n",
       "   Ueberlebenswahrscheinlichkeit_ossi_male  \\\n",
       "0                                 0.997130   \n",
       "1                                 0.999634   \n",
       "2                                 0.999840   \n",
       "3                                 0.999860   \n",
       "4                                 0.999872   \n",
       "\n",
       "   Sterbewahrscheinlichkeit_ossi_female  \\\n",
       "0                              0.002303   \n",
       "1                              0.000243   \n",
       "2                              0.000180   \n",
       "3                              0.000092   \n",
       "4                              0.000061   \n",
       "\n",
       "   Ueberlebenswahrscheinlichkeit_ossi_female  \n",
       "0                                   0.997697  \n",
       "1                                   0.999757  \n",
       "2                                   0.999820  \n",
       "3                                   0.999908  \n",
       "4                                   0.999939  "
      ]
     },
     "execution_count": 36,
     "metadata": {},
     "output_type": "execute_result"
    }
   ],
   "source": [
    "death_prob_ow_df.head()"
   ]
  },
  {
   "cell_type": "code",
   "execution_count": 37,
   "id": "1162e189-9ecb-4cc1-b955-4b405091766e",
   "metadata": {},
   "outputs": [],
   "source": [
    "def death_prob_wessi_male(Alter, period):\n",
    "    if Alter < 0:\n",
    "        return 'Alter darf nicht negativ sein'\n",
    "    elif Alter > 112:\n",
    "        return 'Alter darf nicht über 112 sein'\n",
    "    elif Alter + period > 112:\n",
    "        return 'Person kann nicht so alt werden'\n",
    "    elif ((Alter != 112) & (period == 0)):\n",
    "        return death_prob_ow_df.Sterbewahrscheinlichkeit_wessi_male[Alter]\n",
    "    else:\n",
    "        if (Alter + period == 112):# Gebe \"Restwahrscheinlichkeit\" aus sodass die Wahrscheinlichkeitsmasse insgesamt 1 ist\n",
    "            tmp_var = 0\n",
    "            for t in range(0, 112 - Alter):\n",
    "                live_inner = np.prod(death_prob_ow_df.Ueberlebenswahrscheinlichkeit_wessi_male[Alter:Alter + t])\n",
    "                death_inner = death_prob_ow_df.Sterbewahrscheinlichkeit_wessi_male[Alter + t]\n",
    "                tmp_var = tmp_var + live_inner * death_inner\n",
    "            return 1 - tmp_var\n",
    "        else:# Gebe tatsächliche Wahrscheinlichkeit aus\n",
    "            live = np.prod(death_prob_ow_df.Ueberlebenswahrscheinlichkeit_wessi_male[Alter:Alter + period])\n",
    "            death = death_prob_ow_df.Sterbewahrscheinlichkeit_wessi_male[Alter + period]\n",
    "            return live * death\n",
    "\n",
    "def death_prob_ossi_male(Alter, period):\n",
    "    if Alter < 0:\n",
    "        return 'Alter darf nicht negativ sein'\n",
    "    elif Alter > 112:\n",
    "        return 'Alter darf nicht über 112 sein'\n",
    "    elif Alter + period > 112:\n",
    "        return 'Person kann nicht so alt werden'\n",
    "    elif ((Alter != 112) & (period == 0)):\n",
    "        return death_prob_ow_df.Sterbewahrscheinlichkeit_ossi_male[Alter]\n",
    "    else:\n",
    "        if (Alter + period == 112):# Gebe \"Restwahrscheinlichkeit\" aus sodass die Wahrscheinlichkeitsmasse insgesamt 1 ist\n",
    "            tmp_var = 0\n",
    "            for t in range(0, 112 - Alter):\n",
    "                live_inner = np.prod(death_prob_ow_df.Ueberlebenswahrscheinlichkeit_ossi_male[Alter:Alter + t])\n",
    "                death_inner = death_prob_ow_df.Sterbewahrscheinlichkeit_ossi_male[Alter + t]\n",
    "                tmp_var = tmp_var + live_inner * death_inner\n",
    "            return 1 - tmp_var\n",
    "        else:# Gebe tatsächliche Wahrscheinlichkeit aus\n",
    "            live = np.prod(death_prob_ow_df.Ueberlebenswahrscheinlichkeit_ossi_male[Alter:Alter + period])\n",
    "            death = death_prob_ow_df.Sterbewahrscheinlichkeit_ossi_male[Alter + period]\n",
    "            return live * death\n",
    "\n",
    "def death_prob_wessi_female(Alter, period):\n",
    "    if Alter < 0:\n",
    "        return 'Alter darf nicht negativ sein'\n",
    "    elif Alter > 112:\n",
    "        return 'Alter darf nicht über 112 sein'\n",
    "    elif Alter + period > 112:\n",
    "        return 'Person kann nicht so alt werden'\n",
    "    elif ((Alter != 112) & (period == 0)):\n",
    "        return death_prob_ow_df.Sterbewahrscheinlichkeit_wessi_female[Alter]\n",
    "    else:\n",
    "        if (Alter + period == 112):# Gebe \"Restwahrscheinlichkeit\" aus sodass die Wahrscheinlichkeitsmasse insgesamt 1 ist\n",
    "            tmp_var = 0\n",
    "            for t in range(0, 112 - Alter):\n",
    "                live_inner = np.prod(death_prob_ow_df.Ueberlebenswahrscheinlichkeit_wessi_female[Alter:Alter + t])\n",
    "                death_inner = death_prob_ow_df.Sterbewahrscheinlichkeit_wessi_female[Alter + t]\n",
    "                tmp_var = tmp_var + live_inner * death_inner\n",
    "            return 1 - tmp_var\n",
    "        else:# Gebe tatsächliche Wahrscheinlichkeit aus\n",
    "            live = np.prod(death_prob_ow_df.Ueberlebenswahrscheinlichkeit_wessi_female[Alter:Alter + period])\n",
    "            death = death_prob_ow_df.Sterbewahrscheinlichkeit_wessi_female[Alter + period]\n",
    "            return live * death\n",
    "\n",
    "def death_prob_ossi_female(Alter, period):\n",
    "    if Alter < 0:\n",
    "        return 'Alter darf nicht negativ sein'\n",
    "    elif Alter > 112:\n",
    "        return 'Alter darf nicht über 112 sein'\n",
    "    elif Alter + period > 112:\n",
    "        return 'Person kann nicht so alt werden'\n",
    "    elif ((Alter != 112) & (period == 0)):\n",
    "        return death_prob_ow_df.Sterbewahrscheinlichkeit_ossi_female[Alter]\n",
    "    else:\n",
    "        if (Alter + period == 112):# Gebe \"Restwahrscheinlichkeit\" aus sodass die Wahrscheinlichkeitsmasse insgesamt 1 ist\n",
    "            tmp_var = 0\n",
    "            for t in range(0, 112 - Alter):\n",
    "                live_inner = np.prod(death_prob_ow_df.Ueberlebenswahrscheinlichkeit_ossi_female[Alter:Alter + t])\n",
    "                death_inner = death_prob_ow_df.Sterbewahrscheinlichkeit_ossi_female[Alter + t]\n",
    "                tmp_var = tmp_var + live_inner * death_inner\n",
    "            return 1 - tmp_var\n",
    "        else:# Gebe tatsächliche Wahrscheinlichkeit aus\n",
    "            live = np.prod(death_prob_ow_df.Ueberlebenswahrscheinlichkeit_ossi_female[Alter:Alter + period])\n",
    "            death = death_prob_ow_df.Sterbewahrscheinlichkeit_ossi_female[Alter + period]\n",
    "            return live * death"
   ]
  },
  {
   "cell_type": "code",
   "execution_count": 38,
   "id": "4e538e79-fce8-43e6-9faa-0109eba6a19d",
   "metadata": {},
   "outputs": [],
   "source": [
    "def present_value_wessi_male(Alter, BlockingPeriod, Freibetrag, zins, rendite):\n",
    "    part_a = 0\n",
    "    part_b = 0\n",
    "    part_c = 0\n",
    "    \n",
    "    for z in range(0, int(np.floor((112 - Alter) / BlockingPeriod))):\n",
    "        for t in range(0, BlockingPeriod):\n",
    "            part_a = part_a + (Freibetrag * (1 + rendite) ** (BlockingPeriod * z + t) * death_prob_wessi_male(Alter, t + BlockingPeriod * z)) / ( (1 + zins) ** (t + BlockingPeriod * z) )\n",
    "    \n",
    "    for z in range(1, int(np.floor((112 - Alter) / BlockingPeriod))):\n",
    "        for l in range(z, int(np.floor((112 - Alter) / BlockingPeriod))):\n",
    "            for t in range(0, BlockingPeriod):\n",
    "                part_b = part_b + (Freibetrag * (1 + rendite) ** (BlockingPeriod * (l - z) + t) * death_prob_wessi_male(Alter, t + BlockingPeriod * l)) / ( (1 + zins) ** (t + BlockingPeriod * l) )\n",
    "    \n",
    "    for z in range(0, int(np.floor((112 - Alter) / BlockingPeriod)) + 1):\n",
    "        for t in range(0, np.mod(112 - Alter, BlockingPeriod)):\n",
    "            part_c = part_c + (Freibetrag * (1 + rendite) ** (BlockingPeriod * z + t) * death_prob_wessi_male(Alter, t + BlockingPeriod * int(np.floor((112 - Alter)/BlockingPeriod)))) / ( (1 + zins) ** (t + BlockingPeriod * int(np.floor((112 - Alter) / BlockingPeriod))) )\n",
    "\n",
    "    return part_a + part_b + part_c\n",
    "\n",
    "def present_value_ossi_male(Alter, BlockingPeriod, Freibetrag, zins, rendite):\n",
    "    part_a = 0\n",
    "    part_b = 0\n",
    "    part_c = 0\n",
    "    \n",
    "    for z in range(0, int(np.floor((112 - Alter) / BlockingPeriod))):\n",
    "        for t in range(0, BlockingPeriod):\n",
    "            part_a = part_a + (Freibetrag * (1 + rendite) ** (BlockingPeriod * z + t) * death_prob_ossi_male(Alter, t + BlockingPeriod * z)) / ( (1 + zins) ** (t + BlockingPeriod * z) )\n",
    "    \n",
    "    for z in range(1, int(np.floor((112 - Alter) / BlockingPeriod))):\n",
    "        for l in range(z, int(np.floor((112 - Alter) / BlockingPeriod))):\n",
    "            for t in range(0, BlockingPeriod):\n",
    "                part_b = part_b + (Freibetrag * (1 + rendite) ** (BlockingPeriod * (l - z) + t) * death_prob_ossi_male(Alter, t + BlockingPeriod * l)) / ( (1 + zins) ** (t + BlockingPeriod * l) )\n",
    "    \n",
    "    for z in range(0, int(np.floor((112 - Alter) / BlockingPeriod)) + 1):\n",
    "        for t in range(0, np.mod(112 - Alter, BlockingPeriod)):\n",
    "            part_c = part_c + (Freibetrag * (1 + rendite) ** (BlockingPeriod * z + t) * death_prob_ossi_male(Alter, t + BlockingPeriod * int(np.floor((112 - Alter)/BlockingPeriod)))) / ( (1 + zins) ** (t + BlockingPeriod * int(np.floor((112 - Alter) / BlockingPeriod))) )\n",
    "\n",
    "    return part_a + part_b + part_c\n",
    "\n",
    "def present_value_wessi_female(Alter, BlockingPeriod, Freibetrag, zins, rendite):\n",
    "    part_a = 0\n",
    "    part_b = 0\n",
    "    part_c = 0\n",
    "    \n",
    "    for z in range(0, int(np.floor((112 - Alter) / BlockingPeriod))):\n",
    "        for t in range(0, BlockingPeriod):\n",
    "            part_a = part_a + (Freibetrag * (1 + rendite) ** (BlockingPeriod * z + t) * death_prob_wessi_female(Alter, t + BlockingPeriod * z)) / ( (1 + zins) ** (t + BlockingPeriod * z) )\n",
    "    \n",
    "    for z in range(1, int(np.floor((112 - Alter) / BlockingPeriod))):\n",
    "        for l in range(z, int(np.floor((112 - Alter) / BlockingPeriod))):\n",
    "            for t in range(0, BlockingPeriod):\n",
    "                part_b = part_b + (Freibetrag * (1 + rendite) ** (BlockingPeriod * (l - z) + t) * death_prob_wessi_female(Alter, t + BlockingPeriod * l)) / ( (1 + zins) ** (t + BlockingPeriod * l) )\n",
    "    \n",
    "    for z in range(0, int(np.floor((112 - Alter) / BlockingPeriod)) + 1):\n",
    "        for t in range(0, np.mod(112 - Alter, BlockingPeriod)):\n",
    "            part_c = part_c + (Freibetrag * (1 + rendite) ** (BlockingPeriod * z + t) * death_prob_wessi_female(Alter, t + BlockingPeriod * int(np.floor((112 - Alter)/BlockingPeriod)))) / ( (1 + zins) ** (t + BlockingPeriod * int(np.floor((112 - Alter) / BlockingPeriod))) )\n",
    "\n",
    "    return part_a + part_b + part_c\n",
    "\n",
    "def present_value_ossi_female(Alter, BlockingPeriod, Freibetrag, zins, rendite):\n",
    "    part_a = 0\n",
    "    part_b = 0\n",
    "    part_c = 0\n",
    "    \n",
    "    for z in range(0, int(np.floor((112 - Alter) / BlockingPeriod))):\n",
    "        for t in range(0, BlockingPeriod):\n",
    "            part_a = part_a + (Freibetrag * (1 + rendite) ** (BlockingPeriod * z + t) * death_prob_ossi_female(Alter, t + BlockingPeriod * z)) / ( (1 + zins) ** (t + BlockingPeriod * z) )\n",
    "    \n",
    "    for z in range(1, int(np.floor((112 - Alter) / BlockingPeriod))):\n",
    "        for l in range(z, int(np.floor((112 - Alter) / BlockingPeriod))):\n",
    "            for t in range(0, BlockingPeriod):\n",
    "                part_b = part_b + (Freibetrag * (1 + rendite) ** (BlockingPeriod * (l - z) + t) * death_prob_ossi_female(Alter, t + BlockingPeriod * l)) / ( (1 + zins) ** (t + BlockingPeriod * l) )\n",
    "    \n",
    "    for z in range(0, int(np.floor((112 - Alter) / BlockingPeriod)) + 1):\n",
    "        for t in range(0, np.mod(112 - Alter, BlockingPeriod)):\n",
    "            part_c = part_c + (Freibetrag * (1 + rendite) ** (BlockingPeriod * z + t) * death_prob_ossi_female(Alter, t + BlockingPeriod * int(np.floor((112 - Alter)/BlockingPeriod)))) / ( (1 + zins) ** (t + BlockingPeriod * int(np.floor((112 - Alter) / BlockingPeriod))) )\n",
    "\n",
    "    return part_a + part_b + part_c"
   ]
  },
  {
   "cell_type": "markdown",
   "id": "2853d351-ad56-4e50-9230-cb03afbaa045",
   "metadata": {},
   "source": [
    "### Vorteil westdeutsche Frauen"
   ]
  },
  {
   "cell_type": "code",
   "execution_count": 39,
   "id": "882af067-dcd2-4027-b174-9ccb1b5a0bd1",
   "metadata": {},
   "outputs": [
    {
     "data": {
      "image/png": "[encoded data removed]",
      "text/plain": [
       "<Figure size 432x288 with 1 Axes>"
      ]
     },
     "metadata": {
      "needs_background": "light"
     },
     "output_type": "display_data"
    }
   ],
   "source": [
    "x = []\n",
    "for i in range(5, 60):\n",
    "    x.append(i + 1)\n",
    "y = []\n",
    "for i in x:\n",
    "    y.append(present_value_wessi_female(50, i, 400000, 0, 0) - present_value_ossi_female(50, i, 400000, 0, 0) )\n",
    "plt.scatter(x, y)\n",
    "yzins = []\n",
    "for i in x:\n",
    "    yzins.append(present_value_wessi_female(50, i, 400000, 0, 0.035) - present_value_ossi_female(50, i, 400000, 0, 0.035) )\n",
    "plt.scatter(x, yzins)\n",
    "plt.show()"
   ]
  },
  {
   "cell_type": "markdown",
   "id": "9fdf2dbb-7f7d-4284-a149-988d24291511",
   "metadata": {},
   "source": [
    "### Vorteil für westdeutsche Männer"
   ]
  },
  {
   "cell_type": "code",
   "execution_count": 40,
   "id": "a846a22e-7834-4983-93a4-e7b2cd97e206",
   "metadata": {},
   "outputs": [
    {
     "data": {
      "image/png": "[encoded data removed]",
      "text/plain": [
       "<Figure size 432x288 with 1 Axes>"
      ]
     },
     "metadata": {
      "needs_background": "light"
     },
     "output_type": "display_data"
    }
   ],
   "source": [
    "x = []\n",
    "for i in range(5, 60):\n",
    "    x.append(i + 1)\n",
    "y = []\n",
    "for i in x:\n",
    "    y.append(present_value_wessi_male(50, i, 400000, 0, 0) - present_value_ossi_male(50, i, 400000, 0, 0))\n",
    "plt.scatter(x, y)\n",
    "yzins = []\n",
    "for i in x:\n",
    "    yzins.append(present_value_wessi_male(50, i, 400000, 0, 0.035) - present_value_ossi_male(50, i, 400000, 0, 0.035))\n",
    "plt.scatter(x, yzins)\n",
    "plt.show()"
   ]
  },
  {
   "cell_type": "markdown",
   "id": "f752668f-bb46-4c26-83c2-622f181e7a83",
   "metadata": {},
   "source": [
    "### Vorteil Frauen allgemein (ggü. Männern allgemein)"
   ]
  },
  {
   "cell_type": "code",
   "execution_count": 41,
   "id": "238a77c0-02da-429a-85a7-a7625ad0253a",
   "metadata": {},
   "outputs": [
    {
     "data": {
      "image/png": "[encoded data removed]",
      "text/plain": [
       "<Figure size 432x288 with 1 Axes>"
      ]
     },
     "metadata": {
      "needs_background": "light"
     },
     "output_type": "display_data"
    }
   ],
   "source": [
    "x = []\n",
    "for i in range(5, 60):\n",
    "    x.append(i + 1)\n",
    "y = []\n",
    "for i in x:\n",
    "    y.append(present_value_female(50, i, 400000, 0, 0) - present_value_male(50, i, 400000, 0, 0))\n",
    "plt.scatter(x, y)\n",
    "yzins = []\n",
    "for i in x:\n",
    "    yzins.append(present_value_female(50, i, 400000, 0, 0.035) - present_value_male(50, i, 400000, 0, 0.035))\n",
    "plt.scatter(x, yzins)\n",
    "plt.show()"
   ]
  },
  {
   "cell_type": "markdown",
   "id": "e2abe466-e3f9-4b63-bc23-f0d480f0b79b",
   "metadata": {},
   "source": [
    "### Alles in einer Grafik (für TRR266-Report)"
   ]
  },
  {
   "cell_type": "code",
   "execution_count": 42,
   "id": "fcb57b37-0870-4926-a05a-0339369c0aef",
   "metadata": {},
   "outputs": [
    {
     "data": {
      "image/png": "[encoded data removed]",
      "text/plain": [
       "<Figure size 432x288 with 1 Axes>"
      ]
     },
     "metadata": {
      "needs_background": "light"
     },
     "output_type": "display_data"
    }
   ],
   "source": [
    "x = []\n",
    "for i in range(5, 40):\n",
    "    x.append(i + 1)\n",
    "y = []\n",
    "for i in x:\n",
    "    y.append(present_value_female(50, i, 400000, 0, 0.035) - present_value_male(50, i, 400000, 0, 0.035))\n",
    "plt.scatter(x, y, s=11, c=[[0.196, 0.42, 0.424, 1]])\n",
    "z = []\n",
    "for i in x:\n",
    "    z.append(present_value_wessi_male(50, i, 400000, 0, 0.035) - present_value_ossi_male(50, i, 400000, 0, 0.035))\n",
    "plt.scatter(x, z, s=11, c=[[0.25, 0.53, 0.56, 1]])\n",
    "za = []\n",
    "for i in x:\n",
    "    za.append(present_value_wessi_female(50, i, 400000, 0, 0.035) - present_value_ossi_female(50, i, 400000, 0, 0.035))\n",
    "plt.xlabel(\"Länge der Sperrfrist (Jahre)\")\n",
    "plt.ylabel(\"Differenz\")\n",
    "plt.scatter(x, za, s=11, c=[[0.25, 0.53, 0.56, 0.5]])\n",
    "#plt.show()\n",
    "plt.savefig(os.path.join('3_output', 'figure4.svg'), format = 'svg', dpi=300)"
   ]
  },
  {
   "cell_type": "markdown",
   "id": "3084db59-9924-48d0-9130-6933587e43f2",
   "metadata": {},
   "source": [
    "### Einfluss der Sperrfrist (für TRR266-Report)"
   ]
  },
  {
   "cell_type": "code",
   "execution_count": 43,
   "id": "2ad15730-042b-4754-810c-1650d243433e",
   "metadata": {},
   "outputs": [
    {
     "data": {
      "image/png": "[encoded data removed]",
      "text/plain": [
       "<Figure size 432x288 with 1 Axes>"
      ]
     },
     "metadata": {
      "needs_background": "light"
     },
     "output_type": "display_data"
    }
   ],
   "source": [
    "x = []\n",
    "for i in range(5, 40):\n",
    "    x.append(i + 1)\n",
    "y50w = []\n",
    "y50m = []\n",
    "for i in x:\n",
    "    y50m.append(present_value_male(50, i, 400000, 0, 0.035))\n",
    "    y50w.append(present_value_female(50, i, 400000, 0, 0.035))\n",
    "plt.xlabel(\"Länge der Sperrfrist (Jahre)\")\n",
    "plt.ylabel(\"Effektiver Freibetrag\")\n",
    "plt.scatter(x, y50w, s=11, c=[[0.25, 0.53, 0.56, 1]])\n",
    "plt.scatter(x, y50m, s=11, c=[[0.96, 0.71, 0.33, 1]])\n",
    "plt.gca().yaxis.set_major_formatter(plt.matplotlib.ticker.StrMethodFormatter('{x:.0f}'))\n",
    "#plt.show()\n",
    "plt.savefig(os.path.join('3_output', 'figure3.svg'), format = 'svg', dpi=300)"
   ]
  },
  {
   "cell_type": "markdown",
   "id": "f1fd8017-43f5-4c2e-9897-ae8d901e08bc",
   "metadata": {},
   "source": [
    "### Einfluss der Sperrfrist (für TRR266-Report, alternativ)"
   ]
  },
  {
   "cell_type": "code",
   "execution_count": 44,
   "id": "448b414c-668d-409f-83a2-edd1fa0c77fe",
   "metadata": {},
   "outputs": [
    {
     "data": {
      "image/png": "[encoded data removed]",
      "text/plain": [
       "<Figure size 432x288 with 1 Axes>"
      ]
     },
     "metadata": {
      "needs_background": "light"
     },
     "output_type": "display_data"
    }
   ],
   "source": [
    "x = []\n",
    "for i in range(5, 40):\n",
    "    x.append(i + 1)\n",
    "y50w74 = []\n",
    "y50w64 = []\n",
    "y50w52 = []\n",
    "y50w35 = []\n",
    "for i in x:\n",
    "    y50w74.append(present_value_female(50, i, 400000, 0, 0.074))\n",
    "    y50w64.append(present_value_female(50, i, 400000, 0, 0.064))\n",
    "    y50w52.append(present_value_female(50, i, 400000, 0, 0.052))\n",
    "    y50w35.append(present_value_female(50, i, 400000, 0, 0.035))\n",
    "plt.xlabel(\"Länge der Sperrfrist (Jahre)\")\n",
    "plt.ylabel(\"Effektiver Freibetrag\")\n",
    "plt.scatter(x, y50w74, s=11, c=[[0.25, 0.53, 0.56, 1]])\n",
    "plt.scatter(x, y50w64, s=11, c=[[0.25, 0.53, 0.56, 0.5]])\n",
    "plt.scatter(x, y50w52, s=11, c=[[0.96, 0.71, 0.33, 1]])\n",
    "plt.scatter(x, y50w35, s=11, c=[[0.96, 0.71, 0.33, 0.25]])\n",
    "plt.gca().yaxis.set_major_formatter(plt.matplotlib.ticker.StrMethodFormatter('{x:.0f}'))\n",
    "#plt.show()\n",
    "plt.savefig(os.path.join('3_output', 'figure3_alternative.svg'), format = 'svg', dpi=300)"
   ]
  },
  {
   "cell_type": "markdown",
   "id": "548705cd-24a5-4b0d-9419-4c9dc1ee7c4f",
   "metadata": {},
   "source": [
    "### Einfluss des Alters (für TRR266-Report)"
   ]
  },
  {
   "cell_type": "code",
   "execution_count": 45,
   "id": "0850daf1-5a40-47a5-8784-21411cc52e61",
   "metadata": {},
   "outputs": [
    {
     "data": {
      "image/png": "[encoded data removed]",
      "text/plain": [
       "<Figure size 432x288 with 1 Axes>"
      ]
     },
     "metadata": {
      "needs_background": "light"
     },
     "output_type": "display_data"
    }
   ],
   "source": [
    "x = []\n",
    "for i in range(40, 100):\n",
    "    x.append(i + 1)\n",
    "w74 = []\n",
    "w64 = []\n",
    "w52 = []\n",
    "w35 = []\n",
    "for i in x:\n",
    "    w74.append(present_value_female(i, 10, 400000, 0, 0.074))\n",
    "    w64.append(present_value_female(i, 10, 400000, 0, 0.064))\n",
    "    w52.append(present_value_female(i, 10, 400000, 0, 0.052))\n",
    "    w35.append(present_value_female(i, 10, 400000, 0, 0.035))\n",
    "plt.xlabel(\"Alter\")\n",
    "plt.ylabel(\"Effektiver Freibetrag\")\n",
    "plt.scatter(x, w74, s=11, c=[[0.25, 0.53, 0.56, 1]])\n",
    "plt.scatter(x, w64, s=11, c=[[0.25, 0.53, 0.56, 0.5]])\n",
    "plt.scatter(x, w52, s=11, c=[[0.96, 0.71, 0.33, 1]])\n",
    "plt.scatter(x, w35, s=11, c=[[0.96, 0.71, 0.33, 0.25]])\n",
    "plt.gca().yaxis.set_major_formatter(plt.matplotlib.ticker.StrMethodFormatter('{x: .0f}'))\n",
    "plt.ylim([0, 12000000])\n",
    "#plt.show()\n",
    "plt.savefig(os.path.join('3_output', 'figure1.svg'), format = 'svg', dpi=300)"
   ]
  },
  {
   "cell_type": "markdown",
   "id": "0d60ab94-6624-4edc-b707-d690620df882",
   "metadata": {},
   "source": [
    "### Verteilung Lebensalter Frauen Ost vs. West"
   ]
  },
  {
   "cell_type": "code",
   "execution_count": 46,
   "id": "45b64e26-e45d-4546-a15f-d5b4f473f778",
   "metadata": {},
   "outputs": [
    {
     "data": {
      "image/png": "[encoded data removed]",
      "text/plain": [
       "<Figure size 432x288 with 1 Axes>"
      ]
     },
     "metadata": {
      "needs_background": "light"
     },
     "output_type": "display_data"
    }
   ],
   "source": [
    "x = []\n",
    "for i in range(0, 97):\n",
    "    x.append(i + 1)\n",
    "y_ossi = []\n",
    "for i in x:\n",
    "    y_ossi.append(death_prob_ossi_female(0, i))\n",
    "y_wessi = []\n",
    "for i in x:\n",
    "    y_wessi.append(death_prob_wessi_female(0, i))\n",
    "plt.scatter(x, y_ossi)\n",
    "plt.scatter(x, y_wessi)\n",
    "plt.show()"
   ]
  },
  {
   "cell_type": "markdown",
   "id": "ea562e59-0d18-4186-b9f2-0c1bd3f88fdd",
   "metadata": {},
   "source": [
    "### Verteilung Lebensalter Männer Ost vs. West"
   ]
  },
  {
   "cell_type": "code",
   "execution_count": 47,
   "id": "50be5307-b696-4a7d-89ac-5099175bd66f",
   "metadata": {},
   "outputs": [
    {
     "data": {
      "image/png": "[encoded data removed]",
      "text/plain": [
       "<Figure size 432x288 with 1 Axes>"
      ]
     },
     "metadata": {
      "needs_background": "light"
     },
     "output_type": "display_data"
    }
   ],
   "source": [
    "x = []\n",
    "for i in range(0, 112):\n",
    "    x.append(i + 1)\n",
    "y_ossi = []\n",
    "for i in x:\n",
    "    y_ossi.append(death_prob_ossi_male(0, i))\n",
    "y_wessi = []\n",
    "for i in x:\n",
    "    y_wessi.append(death_prob_wessi_male(0, i))\n",
    "plt.scatter(x, y_ossi)\n",
    "plt.scatter(x, y_wessi)\n",
    "plt.show()"
   ]
  },
  {
   "cell_type": "markdown",
   "id": "745e81b5-d93c-4df6-9a4b-a1056fd36ee8",
   "metadata": {},
   "source": [
    "### Verteilung Lebensalter Männer gesamt vs. Frauen gesamt"
   ]
  },
  {
   "cell_type": "code",
   "execution_count": 48,
   "id": "53feb54f-28da-465f-a59b-1a582dfb5438",
   "metadata": {},
   "outputs": [
    {
     "data": {
      "image/png": "[encoded data removed]",
      "text/plain": [
       "<Figure size 432x288 with 1 Axes>"
      ]
     },
     "metadata": {
      "needs_background": "light"
     },
     "output_type": "display_data"
    }
   ],
   "source": [
    "x = []\n",
    "for i in range(0, 112):\n",
    "    x.append(i + 1)\n",
    "y_male = []\n",
    "for i in x:\n",
    "    y_male.append(death_prob_male(0, i))\n",
    "y_female = []\n",
    "for i in x:\n",
    "    y_female.append(death_prob_female(0, i))\n",
    "plt.scatter(x, y_male)\n",
    "plt.scatter(x, y_female)\n",
    "plt.show()"
   ]
  },
  {
   "cell_type": "markdown",
   "id": "937cd426-763b-4825-83c0-fa719aa89bdb",
   "metadata": {},
   "source": [
    "# Beispielswerte im Paper"
   ]
  },
  {
   "cell_type": "markdown",
   "id": "e581dce7-ebc2-4c07-8a7c-20dab3c6f99d",
   "metadata": {},
   "source": [
    "### Einleitung"
   ]
  },
  {
   "cell_type": "code",
   "execution_count": 49,
   "id": "ea54cadb-a240-4d67-a211-be12f2172f0e",
   "metadata": {},
   "outputs": [
    {
     "data": {
      "text/plain": [
       "3530383"
      ]
     },
     "execution_count": 49,
     "metadata": {},
     "output_type": "execute_result"
    }
   ],
   "source": [
    "round(present_value_female(50,10, 400000, 0, 0.035))"
   ]
  },
  {
   "cell_type": "markdown",
   "id": "9e1f0064-d2b4-440e-a279-3ea3298721d8",
   "metadata": {},
   "source": [
    "### IV.1."
   ]
  },
  {
   "cell_type": "markdown",
   "id": "957c6bef-4597-4231-8c49-17824d4c1ab8",
   "metadata": {},
   "source": [
    "Männer"
   ]
  },
  {
   "cell_type": "code",
   "execution_count": 50,
   "id": "d357d3b0-4721-45e7-bae0-1ba2327f2cc3",
   "metadata": {},
   "outputs": [
    {
     "data": {
      "text/plain": [
       "2951039"
      ]
     },
     "execution_count": 50,
     "metadata": {},
     "output_type": "execute_result"
    }
   ],
   "source": [
    "round(present_value_male(50, 10, 400000, 0, 0.035))"
   ]
  },
  {
   "cell_type": "code",
   "execution_count": 51,
   "id": "eb7d96ee-9912-4347-a231-f6ee0f79c757",
   "metadata": {},
   "outputs": [
    {
     "data": {
      "text/plain": [
       "7990165"
      ]
     },
     "execution_count": 51,
     "metadata": {},
     "output_type": "execute_result"
    }
   ],
   "source": [
    "round(present_value_male(50, 10, 400000, 0, 0.074))"
   ]
  },
  {
   "cell_type": "code",
   "execution_count": 52,
   "id": "0e1278ce-171c-472d-80d7-a75c61816b56",
   "metadata": {},
   "outputs": [
    {
     "data": {
      "text/plain": [
       "5039126"
      ]
     },
     "execution_count": 52,
     "metadata": {},
     "output_type": "execute_result"
    }
   ],
   "source": [
    "round(present_value_male(50, 10, 400000, 0, 0.074) - present_value_male(50, 10, 400000, 0, 0.035))"
   ]
  },
  {
   "cell_type": "code",
   "execution_count": 53,
   "id": "34972fa0-3ab0-42ff-bc01-c97f8ee6ab7c",
   "metadata": {},
   "outputs": [
    {
     "data": {
      "text/plain": [
       "1148348"
      ]
     },
     "execution_count": 53,
     "metadata": {},
     "output_type": "execute_result"
    }
   ],
   "source": [
    "round(present_value_male(70, 10, 400000, 0, 0.035))"
   ]
  },
  {
   "cell_type": "code",
   "execution_count": 54,
   "id": "8acd3669-c31f-4bb7-942f-f488d255196c",
   "metadata": {},
   "outputs": [
    {
     "data": {
      "text/plain": [
       "723626"
      ]
     },
     "execution_count": 54,
     "metadata": {},
     "output_type": "execute_result"
    }
   ],
   "source": [
    "round(present_value_male(70, 10, 400000, 0, 0.074) - present_value_male(70, 10, 400000, 0, 0.035))"
   ]
  },
  {
   "cell_type": "markdown",
   "id": "6da003ca-0c02-4ef6-9a1a-4ecb1f36051f",
   "metadata": {},
   "source": [
    "Frauen"
   ]
  },
  {
   "cell_type": "code",
   "execution_count": 55,
   "id": "3985e229-c8df-4212-98ad-d29d2419193c",
   "metadata": {},
   "outputs": [
    {
     "data": {
      "text/plain": [
       "3530383"
      ]
     },
     "execution_count": 55,
     "metadata": {},
     "output_type": "execute_result"
    }
   ],
   "source": [
    "round(present_value_female(50, 10, 400000, 0, 0.035))"
   ]
  },
  {
   "cell_type": "code",
   "execution_count": 56,
   "id": "b018ee33-af20-4709-9da4-7a896afc1980",
   "metadata": {},
   "outputs": [
    {
     "data": {
      "text/plain": [
       "579344"
      ]
     },
     "execution_count": 56,
     "metadata": {},
     "output_type": "execute_result"
    }
   ],
   "source": [
    "round(present_value_female(50, 10, 400000, 0, 0.035) - present_value_male(50, 10, 400000, 0, 0.035))"
   ]
  },
  {
   "cell_type": "code",
   "execution_count": 57,
   "id": "1a3e3e59-ca6f-474c-9a77-19bea63238d1",
   "metadata": {},
   "outputs": [
    {
     "data": {
      "text/plain": [
       "208519"
      ]
     },
     "execution_count": 57,
     "metadata": {},
     "output_type": "execute_result"
    }
   ],
   "source": [
    "round(present_value_female(70, 10, 400000, 0, 0.035) - present_value_male(70, 10, 400000, 0, 0.035))"
   ]
  },
  {
   "cell_type": "markdown",
   "id": "a4ac6199-9f7e-4563-bc37-fa58fa9bc6ce",
   "metadata": {},
   "source": [
    "### IV.2."
   ]
  },
  {
   "cell_type": "markdown",
   "id": "1c52947f-71d3-4000-80c2-d5e446d888ec",
   "metadata": {},
   "source": [
    "Verzögerung um 1 Jahr"
   ]
  },
  {
   "cell_type": "code",
   "execution_count": 58,
   "id": "7faaa122-d689-45f3-a5d2-3bd66593e7aa",
   "metadata": {},
   "outputs": [
    {
     "data": {
      "text/plain": [
       "137655"
      ]
     },
     "execution_count": 58,
     "metadata": {},
     "output_type": "execute_result"
    }
   ],
   "source": [
    "round(present_value_delay_male(50, 10, 400000, 0, 0.035, 0) - present_value_delay_male(50, 10, 400000, 0, 0.035, 1))"
   ]
  },
  {
   "cell_type": "code",
   "execution_count": 59,
   "id": "31dbe8fc-441f-4a13-bec4-741fac3007a6",
   "metadata": {},
   "outputs": [
    {
     "data": {
      "text/plain": [
       "586972"
      ]
     },
     "execution_count": 59,
     "metadata": {},
     "output_type": "execute_result"
    }
   ],
   "source": [
    "round(present_value_delay_male(50, 10, 400000, 0, 0.074, 0) - present_value_delay_male(50, 10, 400000, 0, 0.074, 1))"
   ]
  },
  {
   "cell_type": "code",
   "execution_count": 60,
   "id": "423d4466-1d4a-4c6d-b084-9dda6f33aae0",
   "metadata": {},
   "outputs": [
    {
     "data": {
      "text/plain": [
       "72162"
      ]
     },
     "execution_count": 60,
     "metadata": {},
     "output_type": "execute_result"
    }
   ],
   "source": [
    "round(present_value_delay_male(70, 10, 400000, 0, 0.035, 0) - present_value_delay_male(70, 10, 400000, 0, 0.035, 1))"
   ]
  },
  {
   "cell_type": "code",
   "execution_count": 61,
   "id": "0e8d69a9-ad1a-403e-b920-a3917a77fd32",
   "metadata": {},
   "outputs": [
    {
     "data": {
      "text/plain": [
       "160773"
      ]
     },
     "execution_count": 61,
     "metadata": {},
     "output_type": "execute_result"
    }
   ],
   "source": [
    "round(present_value_delay_male(70, 10, 400000, 0, 0.074, 0) - present_value_delay_male(70, 10, 400000, 0, 0.074, 1))"
   ]
  },
  {
   "cell_type": "markdown",
   "id": "14518a2f-9f6f-4bfe-bbdc-5acfea74f832",
   "metadata": {},
   "source": [
    "Verzögerung um 5 Jahre"
   ]
  },
  {
   "cell_type": "code",
   "execution_count": 62,
   "id": "59602924-6cf2-4fb9-80a9-fca6d267d87f",
   "metadata": {},
   "outputs": [
    {
     "data": {
      "text/plain": [
       "639567"
      ]
     },
     "execution_count": 62,
     "metadata": {},
     "output_type": "execute_result"
    }
   ],
   "source": [
    "round(present_value_delay_male(50, 10, 400000, 0, 0.035, 0) - present_value_delay_male(50, 10, 400000, 0, 0.035, 5))"
   ]
  },
  {
   "cell_type": "code",
   "execution_count": 63,
   "id": "9516649a-33ad-4ebe-953e-23a8e88dab7c",
   "metadata": {},
   "outputs": [
    {
     "data": {
      "text/plain": [
       "2553371"
      ]
     },
     "execution_count": 63,
     "metadata": {},
     "output_type": "execute_result"
    }
   ],
   "source": [
    "round(present_value_delay_male(50, 10, 400000, 0, 0.074, 0) - present_value_delay_male(50, 10, 400000, 0, 0.074, 5))"
   ]
  },
  {
   "cell_type": "code",
   "execution_count": 64,
   "id": "df779c4f-1106-4a9d-a9bf-c46959968913",
   "metadata": {},
   "outputs": [
    {
     "data": {
      "text/plain": [
       "320383"
      ]
     },
     "execution_count": 64,
     "metadata": {},
     "output_type": "execute_result"
    }
   ],
   "source": [
    "round(present_value_delay_male(70, 10, 400000, 0, 0.035, 0) - present_value_delay_male(70, 10, 400000, 0, 0.035, 5))"
   ]
  },
  {
   "cell_type": "code",
   "execution_count": 65,
   "id": "2fef0615-6ccc-4e64-a327-aee6e092ef35",
   "metadata": {},
   "outputs": [
    {
     "data": {
      "text/plain": [
       "681367"
      ]
     },
     "execution_count": 65,
     "metadata": {},
     "output_type": "execute_result"
    }
   ],
   "source": [
    "round(present_value_delay_male(70, 10, 400000, 0, 0.074, 0) - present_value_delay_male(70, 10, 400000, 0, 0.074, 5))"
   ]
  },
  {
   "cell_type": "markdown",
   "id": "5441c1c3-c72a-44ff-a4bb-b46cc24a68fb",
   "metadata": {},
   "source": [
    "Approx. Steuerzahlungen"
   ]
  },
  {
   "cell_type": "code",
   "execution_count": 66,
   "id": "92ed96b8-78f9-4fdd-b48b-cd004509c93b",
   "metadata": {},
   "outputs": [
    {
     "data": {
      "text/plain": [
       "191870"
      ]
     },
     "execution_count": 66,
     "metadata": {},
     "output_type": "execute_result"
    }
   ],
   "source": [
    "round(0.3 *( present_value_delay_male(50, 10, 400000, 0, 0.035, 0) - present_value_delay_male(50, 10, 400000, 0, 0.035, 5)))"
   ]
  },
  {
   "cell_type": "code",
   "execution_count": 67,
   "id": "d8b4b2c5-fcfa-428d-8ea9-f0eac319317e",
   "metadata": {},
   "outputs": [
    {
     "data": {
      "text/plain": [
       "766011"
      ]
     },
     "execution_count": 67,
     "metadata": {},
     "output_type": "execute_result"
    }
   ],
   "source": [
    "round( 0.3 * ( present_value_delay_male(50, 10, 400000, 0, 0.074, 0) - present_value_delay_male(50, 10, 400000, 0, 0.074, 5)))"
   ]
  },
  {
   "cell_type": "markdown",
   "id": "f0dc05c1-b085-4352-8954-f5733630a948",
   "metadata": {},
   "source": [
    "### Zusammenfassung"
   ]
  },
  {
   "cell_type": "code",
   "execution_count": 68,
   "id": "9fe275bd-f732-438e-b2ed-630fbbe9804b",
   "metadata": {},
   "outputs": [
    {
     "data": {
      "text/plain": [
       "2951039"
      ]
     },
     "execution_count": 68,
     "metadata": {},
     "output_type": "execute_result"
    }
   ],
   "source": [
    "round(present_value_delay_male(50, 10, 400000, 0, 0.035, 0))"
   ]
  },
  {
   "cell_type": "code",
   "execution_count": 69,
   "id": "6c2fc8e0-3ea5-47b1-b65f-1fe1ac9305e6",
   "metadata": {},
   "outputs": [
    {
     "data": {
      "text/plain": [
       "885312"
      ]
     },
     "execution_count": 69,
     "metadata": {},
     "output_type": "execute_result"
    }
   ],
   "source": [
    "round(0.3 * present_value_delay_male(50, 10, 400000, 0, 0.035, 0))"
   ]
  },
  {
   "cell_type": "code",
   "execution_count": 70,
   "id": "1cc72026-6ef4-4a0b-aa4b-d7655fb76795",
   "metadata": {},
   "outputs": [
    {
     "data": {
      "text/plain": [
       "3530383"
      ]
     },
     "execution_count": 70,
     "metadata": {},
     "output_type": "execute_result"
    }
   ],
   "source": [
    "round(present_value_delay_female(50, 10, 400000, 0, 0.035, 0))"
   ]
  },
  {
   "cell_type": "code",
   "execution_count": 71,
   "id": "5d60b13d-5a21-49d0-827e-6bec457f342a",
   "metadata": {},
   "outputs": [
    {
     "data": {
      "text/plain": [
       "1059115"
      ]
     },
     "execution_count": 71,
     "metadata": {},
     "output_type": "execute_result"
    }
   ],
   "source": [
    "round(0.3 * present_value_delay_female(50, 10, 400000, 0, 0.035, 0))"
   ]
  },
  {
   "cell_type": "code",
   "execution_count": 72,
   "id": "6e8b551b-7ac9-49f5-9f1b-699ddf45a99e",
   "metadata": {},
   "outputs": [
    {
     "data": {
      "text/plain": [
       "320383"
      ]
     },
     "execution_count": 72,
     "metadata": {},
     "output_type": "execute_result"
    }
   ],
   "source": [
    "round(present_value_delay_male(70, 10, 400000, 0, 0.035, 0) - present_value_delay_male(70, 10, 400000, 0, 0.035, 5))"
   ]
  },
  {
   "cell_type": "code",
   "execution_count": null,
   "id": "f914e7b9-7ab7-44c1-b0b9-c4728cabfe5e",
   "metadata": {},
   "outputs": [],
   "source": []
  },
  {
   "cell_type": "code",
   "execution_count": null,
   "id": "00f19dc0-d105-4951-b38d-a591a4292eb3",
   "metadata": {},
   "outputs": [],
   "source": []
  }
 ],
 "metadata": {
  "kernelspec": {
   "display_name": "Python 3 (ipykernel)",
   "language": "python",
   "name": "python3"
  },
  "language_info": {
   "codemirror_mode": {
    "name": "ipython",
    "version": 3
   },
   "file_extension": ".py",
   "mimetype": "text/x-python",
   "name": "python",
   "nbconvert_exporter": "python",
   "pygments_lexer": "ipython3",
   "version": "3.9.5"
  }
 },
 "nbformat": 4,
 "nbformat_minor": 5
}
